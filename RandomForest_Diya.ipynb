{
 "cells": [
  {
   "cell_type": "code",
   "execution_count": 1,
   "id": "f1a0d6b7",
   "metadata": {},
   "outputs": [
    {
     "name": "stdout",
     "output_type": "stream",
     "text": [
      "time: 1.12 s (started: 2022-05-18 16:03:00 +05:30)\n"
     ]
    }
   ],
   "source": [
    "#importing libraries \n",
    "%load_ext autotime\n",
    "import warnings\n",
    "warnings.filterwarnings('ignore')\n",
    "import pandas as pd\n",
    "import numpy as np\n",
    "import seaborn as sb\n",
    "import matplotlib.pyplot as plt\n",
    "from sklearn.model_selection import train_test_split\n",
    "from sklearn.preprocessing import LabelEncoder,OneHotEncoder\n",
    "from imblearn.over_sampling import SMOTE\n",
    "from scipy import stats\n",
    "from sklearn.tree import plot_tree\n",
    "from sklearn.ensemble import RandomForestClassifier\n",
    "from sklearn.tree import DecisionTreeClassifier\n",
    "from sklearn.metrics import confusion_matrix,classification_report,accuracy_score,f1_score,roc_auc_score,roc_curve"
   ]
  },
  {
   "cell_type": "code",
   "execution_count": 2,
   "id": "f9a897cd",
   "metadata": {},
   "outputs": [
    {
     "name": "stdout",
     "output_type": "stream",
     "text": [
      "time: 62.5 ms (started: 2022-05-18 16:03:01 +05:30)\n"
     ]
    }
   ],
   "source": [
    "#reading the data\n",
    "train=pd.read_csv('train_file.csv')\n",
    "test=pd.read_csv('test_file.csv')"
   ]
  },
  {
   "cell_type": "code",
   "execution_count": 3,
   "id": "c94b856a",
   "metadata": {},
   "outputs": [
    {
     "data": {
      "text/html": [
       "<div>\n",
       "<style scoped>\n",
       "    .dataframe tbody tr th:only-of-type {\n",
       "        vertical-align: middle;\n",
       "    }\n",
       "\n",
       "    .dataframe tbody tr th {\n",
       "        vertical-align: top;\n",
       "    }\n",
       "\n",
       "    .dataframe thead th {\n",
       "        text-align: right;\n",
       "    }\n",
       "</style>\n",
       "<table border=\"1\" class=\"dataframe\">\n",
       "  <thead>\n",
       "    <tr style=\"text-align: right;\">\n",
       "      <th></th>\n",
       "      <th>ID</th>\n",
       "      <th>LIMIT_BAL</th>\n",
       "      <th>SEX</th>\n",
       "      <th>EDUCATION</th>\n",
       "      <th>MARRIAGE</th>\n",
       "      <th>AGE</th>\n",
       "      <th>PAY_0</th>\n",
       "      <th>PAY_2</th>\n",
       "      <th>PAY_3</th>\n",
       "      <th>PAY_4</th>\n",
       "      <th>...</th>\n",
       "      <th>BILL_AMT4</th>\n",
       "      <th>BILL_AMT5</th>\n",
       "      <th>BILL_AMT6</th>\n",
       "      <th>PAY_AMT1</th>\n",
       "      <th>PAY_AMT2</th>\n",
       "      <th>PAY_AMT3</th>\n",
       "      <th>PAY_AMT4</th>\n",
       "      <th>PAY_AMT5</th>\n",
       "      <th>PAY_AMT6</th>\n",
       "      <th>default_payment_next_month</th>\n",
       "    </tr>\n",
       "  </thead>\n",
       "  <tbody>\n",
       "    <tr>\n",
       "      <th>0</th>\n",
       "      <td>25150</td>\n",
       "      <td>360000</td>\n",
       "      <td>2</td>\n",
       "      <td>2</td>\n",
       "      <td>2</td>\n",
       "      <td>25</td>\n",
       "      <td>-1</td>\n",
       "      <td>-1</td>\n",
       "      <td>-1</td>\n",
       "      <td>-1</td>\n",
       "      <td>...</td>\n",
       "      <td>3435</td>\n",
       "      <td>8870</td>\n",
       "      <td>2020</td>\n",
       "      <td>12590</td>\n",
       "      <td>3479</td>\n",
       "      <td>3446</td>\n",
       "      <td>8870</td>\n",
       "      <td>2020</td>\n",
       "      <td>27043</td>\n",
       "      <td>0</td>\n",
       "    </tr>\n",
       "    <tr>\n",
       "      <th>1</th>\n",
       "      <td>13470</td>\n",
       "      <td>240000</td>\n",
       "      <td>2</td>\n",
       "      <td>1</td>\n",
       "      <td>2</td>\n",
       "      <td>46</td>\n",
       "      <td>2</td>\n",
       "      <td>2</td>\n",
       "      <td>-2</td>\n",
       "      <td>-1</td>\n",
       "      <td>...</td>\n",
       "      <td>2240</td>\n",
       "      <td>1681</td>\n",
       "      <td>2267</td>\n",
       "      <td>0</td>\n",
       "      <td>0</td>\n",
       "      <td>2240</td>\n",
       "      <td>0</td>\n",
       "      <td>2267</td>\n",
       "      <td>3074</td>\n",
       "      <td>0</td>\n",
       "    </tr>\n",
       "    <tr>\n",
       "      <th>2</th>\n",
       "      <td>3092</td>\n",
       "      <td>320000</td>\n",
       "      <td>2</td>\n",
       "      <td>2</td>\n",
       "      <td>1</td>\n",
       "      <td>41</td>\n",
       "      <td>0</td>\n",
       "      <td>0</td>\n",
       "      <td>0</td>\n",
       "      <td>0</td>\n",
       "      <td>...</td>\n",
       "      <td>35409</td>\n",
       "      <td>35036</td>\n",
       "      <td>35939</td>\n",
       "      <td>5000</td>\n",
       "      <td>2000</td>\n",
       "      <td>2000</td>\n",
       "      <td>3000</td>\n",
       "      <td>3000</td>\n",
       "      <td>1500</td>\n",
       "      <td>0</td>\n",
       "    </tr>\n",
       "    <tr>\n",
       "      <th>3</th>\n",
       "      <td>13973</td>\n",
       "      <td>50000</td>\n",
       "      <td>2</td>\n",
       "      <td>2</td>\n",
       "      <td>2</td>\n",
       "      <td>24</td>\n",
       "      <td>-1</td>\n",
       "      <td>-1</td>\n",
       "      <td>-2</td>\n",
       "      <td>-2</td>\n",
       "      <td>...</td>\n",
       "      <td>0</td>\n",
       "      <td>0</td>\n",
       "      <td>0</td>\n",
       "      <td>0</td>\n",
       "      <td>0</td>\n",
       "      <td>0</td>\n",
       "      <td>0</td>\n",
       "      <td>0</td>\n",
       "      <td>0</td>\n",
       "      <td>1</td>\n",
       "    </tr>\n",
       "    <tr>\n",
       "      <th>4</th>\n",
       "      <td>10567</td>\n",
       "      <td>80000</td>\n",
       "      <td>1</td>\n",
       "      <td>3</td>\n",
       "      <td>1</td>\n",
       "      <td>52</td>\n",
       "      <td>-1</td>\n",
       "      <td>0</td>\n",
       "      <td>0</td>\n",
       "      <td>0</td>\n",
       "      <td>...</td>\n",
       "      <td>20561</td>\n",
       "      <td>21261</td>\n",
       "      <td>21457</td>\n",
       "      <td>1500</td>\n",
       "      <td>1500</td>\n",
       "      <td>1500</td>\n",
       "      <td>1028</td>\n",
       "      <td>876</td>\n",
       "      <td>1449</td>\n",
       "      <td>0</td>\n",
       "    </tr>\n",
       "  </tbody>\n",
       "</table>\n",
       "<p>5 rows × 25 columns</p>\n",
       "</div>"
      ],
      "text/plain": [
       "      ID  LIMIT_BAL  SEX  EDUCATION  MARRIAGE  AGE  PAY_0  PAY_2  PAY_3  \\\n",
       "0  25150     360000    2          2         2   25     -1     -1     -1   \n",
       "1  13470     240000    2          1         2   46      2      2     -2   \n",
       "2   3092     320000    2          2         1   41      0      0      0   \n",
       "3  13973      50000    2          2         2   24     -1     -1     -2   \n",
       "4  10567      80000    1          3         1   52     -1      0      0   \n",
       "\n",
       "   PAY_4  ...  BILL_AMT4  BILL_AMT5  BILL_AMT6  PAY_AMT1  PAY_AMT2  PAY_AMT3  \\\n",
       "0     -1  ...       3435       8870       2020     12590      3479      3446   \n",
       "1     -1  ...       2240       1681       2267         0         0      2240   \n",
       "2      0  ...      35409      35036      35939      5000      2000      2000   \n",
       "3     -2  ...          0          0          0         0         0         0   \n",
       "4      0  ...      20561      21261      21457      1500      1500      1500   \n",
       "\n",
       "   PAY_AMT4  PAY_AMT5  PAY_AMT6  default_payment_next_month  \n",
       "0      8870      2020     27043                           0  \n",
       "1         0      2267      3074                           0  \n",
       "2      3000      3000      1500                           0  \n",
       "3         0         0         0                           1  \n",
       "4      1028       876      1449                           0  \n",
       "\n",
       "[5 rows x 25 columns]"
      ]
     },
     "execution_count": 3,
     "metadata": {},
     "output_type": "execute_result"
    },
    {
     "name": "stdout",
     "output_type": "stream",
     "text": [
      "time: 132 ms (started: 2022-05-18 16:03:01 +05:30)\n"
     ]
    }
   ],
   "source": [
    "#train data\n",
    "train.head()"
   ]
  },
  {
   "cell_type": "code",
   "execution_count": 4,
   "id": "bb412729",
   "metadata": {},
   "outputs": [
    {
     "name": "stdout",
     "output_type": "stream",
     "text": [
      "time: 91.7 ms (started: 2022-05-18 16:03:01 +05:30)\n"
     ]
    }
   ],
   "source": [
    "def modify(df):\n",
    "    df['pay_avg']=df[['PAY_0', 'PAY_2', 'PAY_3', 'PAY_4', 'PAY_5', 'PAY_6']].mean(axis=1)\n",
    "    df['BILL_AVG']=df[['BILL_AMT1', 'BILL_AMT2', 'BILL_AMT3', 'BILL_AMT4', 'BILL_AMT5', 'BILL_AMT6']].mean(axis=1)\n",
    "    df['pay_amt_AVG']=df[['PAY_AMT1', 'PAY_AMT2', 'PAY_AMT3', 'PAY_AMT4', 'PAY_AMT5', 'PAY_AMT6']].mean(axis=1)\n",
    "#     df.drop(['PAY_1', 'PAY_2', 'PAY_3', 'PAY_4', 'PAY_5', 'PAY_6','BILL_AMT1', 'BILL_AMT2', 'BILL_AMT3', 'BILL_AMT4', 'BILL_AMT5', 'BILL_AMT6',],axis=1,inplace=True)\n",
    "#     df.drop(['PAY_AMT1', 'PAY_AMT2', 'PAY_AMT3', 'PAY_AMT4', 'PAY_AMT5', 'PAY_AMT6'],axis=1,inplace=True)\n",
    "    return df"
   ]
  },
  {
   "cell_type": "code",
   "execution_count": 5,
   "id": "baeb0048",
   "metadata": {},
   "outputs": [
    {
     "data": {
      "text/html": [
       "<div>\n",
       "<style scoped>\n",
       "    .dataframe tbody tr th:only-of-type {\n",
       "        vertical-align: middle;\n",
       "    }\n",
       "\n",
       "    .dataframe tbody tr th {\n",
       "        vertical-align: top;\n",
       "    }\n",
       "\n",
       "    .dataframe thead th {\n",
       "        text-align: right;\n",
       "    }\n",
       "</style>\n",
       "<table border=\"1\" class=\"dataframe\">\n",
       "  <thead>\n",
       "    <tr style=\"text-align: right;\">\n",
       "      <th></th>\n",
       "      <th>ID</th>\n",
       "      <th>LIMIT_BAL</th>\n",
       "      <th>SEX</th>\n",
       "      <th>EDUCATION</th>\n",
       "      <th>MARRIAGE</th>\n",
       "      <th>AGE</th>\n",
       "      <th>PAY_0</th>\n",
       "      <th>PAY_2</th>\n",
       "      <th>PAY_3</th>\n",
       "      <th>PAY_4</th>\n",
       "      <th>...</th>\n",
       "      <th>PAY_AMT1</th>\n",
       "      <th>PAY_AMT2</th>\n",
       "      <th>PAY_AMT3</th>\n",
       "      <th>PAY_AMT4</th>\n",
       "      <th>PAY_AMT5</th>\n",
       "      <th>PAY_AMT6</th>\n",
       "      <th>default_payment_next_month</th>\n",
       "      <th>pay_avg</th>\n",
       "      <th>BILL_AVG</th>\n",
       "      <th>pay_amt_AVG</th>\n",
       "    </tr>\n",
       "  </thead>\n",
       "  <tbody>\n",
       "    <tr>\n",
       "      <th>0</th>\n",
       "      <td>25150</td>\n",
       "      <td>360000</td>\n",
       "      <td>2</td>\n",
       "      <td>2</td>\n",
       "      <td>2</td>\n",
       "      <td>25</td>\n",
       "      <td>-1</td>\n",
       "      <td>-1</td>\n",
       "      <td>-1</td>\n",
       "      <td>-1</td>\n",
       "      <td>...</td>\n",
       "      <td>12590</td>\n",
       "      <td>3479</td>\n",
       "      <td>3446</td>\n",
       "      <td>8870</td>\n",
       "      <td>2020</td>\n",
       "      <td>27043</td>\n",
       "      <td>0</td>\n",
       "      <td>-1.000000</td>\n",
       "      <td>8557.666667</td>\n",
       "      <td>9574.666667</td>\n",
       "    </tr>\n",
       "    <tr>\n",
       "      <th>1</th>\n",
       "      <td>13470</td>\n",
       "      <td>240000</td>\n",
       "      <td>2</td>\n",
       "      <td>1</td>\n",
       "      <td>2</td>\n",
       "      <td>46</td>\n",
       "      <td>2</td>\n",
       "      <td>2</td>\n",
       "      <td>-2</td>\n",
       "      <td>-1</td>\n",
       "      <td>...</td>\n",
       "      <td>0</td>\n",
       "      <td>0</td>\n",
       "      <td>2240</td>\n",
       "      <td>0</td>\n",
       "      <td>2267</td>\n",
       "      <td>3074</td>\n",
       "      <td>0</td>\n",
       "      <td>0.000000</td>\n",
       "      <td>1107.333333</td>\n",
       "      <td>1263.500000</td>\n",
       "    </tr>\n",
       "    <tr>\n",
       "      <th>2</th>\n",
       "      <td>3092</td>\n",
       "      <td>320000</td>\n",
       "      <td>2</td>\n",
       "      <td>2</td>\n",
       "      <td>1</td>\n",
       "      <td>41</td>\n",
       "      <td>0</td>\n",
       "      <td>0</td>\n",
       "      <td>0</td>\n",
       "      <td>0</td>\n",
       "      <td>...</td>\n",
       "      <td>5000</td>\n",
       "      <td>2000</td>\n",
       "      <td>2000</td>\n",
       "      <td>3000</td>\n",
       "      <td>3000</td>\n",
       "      <td>1500</td>\n",
       "      <td>0</td>\n",
       "      <td>0.000000</td>\n",
       "      <td>41459.666667</td>\n",
       "      <td>2750.000000</td>\n",
       "    </tr>\n",
       "    <tr>\n",
       "      <th>3</th>\n",
       "      <td>13973</td>\n",
       "      <td>50000</td>\n",
       "      <td>2</td>\n",
       "      <td>2</td>\n",
       "      <td>2</td>\n",
       "      <td>24</td>\n",
       "      <td>-1</td>\n",
       "      <td>-1</td>\n",
       "      <td>-2</td>\n",
       "      <td>-2</td>\n",
       "      <td>...</td>\n",
       "      <td>0</td>\n",
       "      <td>0</td>\n",
       "      <td>0</td>\n",
       "      <td>0</td>\n",
       "      <td>0</td>\n",
       "      <td>0</td>\n",
       "      <td>1</td>\n",
       "      <td>-1.666667</td>\n",
       "      <td>445.833333</td>\n",
       "      <td>0.000000</td>\n",
       "    </tr>\n",
       "    <tr>\n",
       "      <th>4</th>\n",
       "      <td>10567</td>\n",
       "      <td>80000</td>\n",
       "      <td>1</td>\n",
       "      <td>3</td>\n",
       "      <td>1</td>\n",
       "      <td>52</td>\n",
       "      <td>-1</td>\n",
       "      <td>0</td>\n",
       "      <td>0</td>\n",
       "      <td>0</td>\n",
       "      <td>...</td>\n",
       "      <td>1500</td>\n",
       "      <td>1500</td>\n",
       "      <td>1500</td>\n",
       "      <td>1028</td>\n",
       "      <td>876</td>\n",
       "      <td>1449</td>\n",
       "      <td>0</td>\n",
       "      <td>-0.166667</td>\n",
       "      <td>22841.000000</td>\n",
       "      <td>1308.833333</td>\n",
       "    </tr>\n",
       "    <tr>\n",
       "      <th>...</th>\n",
       "      <td>...</td>\n",
       "      <td>...</td>\n",
       "      <td>...</td>\n",
       "      <td>...</td>\n",
       "      <td>...</td>\n",
       "      <td>...</td>\n",
       "      <td>...</td>\n",
       "      <td>...</td>\n",
       "      <td>...</td>\n",
       "      <td>...</td>\n",
       "      <td>...</td>\n",
       "      <td>...</td>\n",
       "      <td>...</td>\n",
       "      <td>...</td>\n",
       "      <td>...</td>\n",
       "      <td>...</td>\n",
       "      <td>...</td>\n",
       "      <td>...</td>\n",
       "      <td>...</td>\n",
       "      <td>...</td>\n",
       "      <td>...</td>\n",
       "    </tr>\n",
       "    <tr>\n",
       "      <th>20995</th>\n",
       "      <td>6283</td>\n",
       "      <td>50000</td>\n",
       "      <td>2</td>\n",
       "      <td>2</td>\n",
       "      <td>2</td>\n",
       "      <td>31</td>\n",
       "      <td>1</td>\n",
       "      <td>-2</td>\n",
       "      <td>-2</td>\n",
       "      <td>-2</td>\n",
       "      <td>...</td>\n",
       "      <td>0</td>\n",
       "      <td>0</td>\n",
       "      <td>0</td>\n",
       "      <td>0</td>\n",
       "      <td>0</td>\n",
       "      <td>0</td>\n",
       "      <td>0</td>\n",
       "      <td>-1.500000</td>\n",
       "      <td>0.000000</td>\n",
       "      <td>0.000000</td>\n",
       "    </tr>\n",
       "    <tr>\n",
       "      <th>20996</th>\n",
       "      <td>25589</td>\n",
       "      <td>80000</td>\n",
       "      <td>2</td>\n",
       "      <td>2</td>\n",
       "      <td>1</td>\n",
       "      <td>37</td>\n",
       "      <td>0</td>\n",
       "      <td>0</td>\n",
       "      <td>0</td>\n",
       "      <td>0</td>\n",
       "      <td>...</td>\n",
       "      <td>5000</td>\n",
       "      <td>3000</td>\n",
       "      <td>2000</td>\n",
       "      <td>4000</td>\n",
       "      <td>2000</td>\n",
       "      <td>2000</td>\n",
       "      <td>0</td>\n",
       "      <td>0.000000</td>\n",
       "      <td>55198.500000</td>\n",
       "      <td>3000.000000</td>\n",
       "    </tr>\n",
       "    <tr>\n",
       "      <th>20997</th>\n",
       "      <td>4378</td>\n",
       "      <td>100000</td>\n",
       "      <td>1</td>\n",
       "      <td>1</td>\n",
       "      <td>1</td>\n",
       "      <td>52</td>\n",
       "      <td>1</td>\n",
       "      <td>2</td>\n",
       "      <td>2</td>\n",
       "      <td>2</td>\n",
       "      <td>...</td>\n",
       "      <td>0</td>\n",
       "      <td>3600</td>\n",
       "      <td>0</td>\n",
       "      <td>6000</td>\n",
       "      <td>3000</td>\n",
       "      <td>0</td>\n",
       "      <td>1</td>\n",
       "      <td>1.166667</td>\n",
       "      <td>25024.000000</td>\n",
       "      <td>2100.000000</td>\n",
       "    </tr>\n",
       "    <tr>\n",
       "      <th>20998</th>\n",
       "      <td>8604</td>\n",
       "      <td>90000</td>\n",
       "      <td>2</td>\n",
       "      <td>2</td>\n",
       "      <td>1</td>\n",
       "      <td>47</td>\n",
       "      <td>0</td>\n",
       "      <td>0</td>\n",
       "      <td>0</td>\n",
       "      <td>0</td>\n",
       "      <td>...</td>\n",
       "      <td>2000</td>\n",
       "      <td>2000</td>\n",
       "      <td>2000</td>\n",
       "      <td>2000</td>\n",
       "      <td>2000</td>\n",
       "      <td>2000</td>\n",
       "      <td>0</td>\n",
       "      <td>0.000000</td>\n",
       "      <td>28903.000000</td>\n",
       "      <td>2000.000000</td>\n",
       "    </tr>\n",
       "    <tr>\n",
       "      <th>20999</th>\n",
       "      <td>18049</td>\n",
       "      <td>90000</td>\n",
       "      <td>1</td>\n",
       "      <td>3</td>\n",
       "      <td>1</td>\n",
       "      <td>44</td>\n",
       "      <td>1</td>\n",
       "      <td>-2</td>\n",
       "      <td>-2</td>\n",
       "      <td>-2</td>\n",
       "      <td>...</td>\n",
       "      <td>0</td>\n",
       "      <td>0</td>\n",
       "      <td>0</td>\n",
       "      <td>0</td>\n",
       "      <td>0</td>\n",
       "      <td>0</td>\n",
       "      <td>1</td>\n",
       "      <td>-1.500000</td>\n",
       "      <td>0.000000</td>\n",
       "      <td>0.000000</td>\n",
       "    </tr>\n",
       "  </tbody>\n",
       "</table>\n",
       "<p>21000 rows × 28 columns</p>\n",
       "</div>"
      ],
      "text/plain": [
       "          ID  LIMIT_BAL  SEX  EDUCATION  MARRIAGE  AGE  PAY_0  PAY_2  PAY_3  \\\n",
       "0      25150     360000    2          2         2   25     -1     -1     -1   \n",
       "1      13470     240000    2          1         2   46      2      2     -2   \n",
       "2       3092     320000    2          2         1   41      0      0      0   \n",
       "3      13973      50000    2          2         2   24     -1     -1     -2   \n",
       "4      10567      80000    1          3         1   52     -1      0      0   \n",
       "...      ...        ...  ...        ...       ...  ...    ...    ...    ...   \n",
       "20995   6283      50000    2          2         2   31      1     -2     -2   \n",
       "20996  25589      80000    2          2         1   37      0      0      0   \n",
       "20997   4378     100000    1          1         1   52      1      2      2   \n",
       "20998   8604      90000    2          2         1   47      0      0      0   \n",
       "20999  18049      90000    1          3         1   44      1     -2     -2   \n",
       "\n",
       "       PAY_4  ...  PAY_AMT1  PAY_AMT2  PAY_AMT3  PAY_AMT4  PAY_AMT5  PAY_AMT6  \\\n",
       "0         -1  ...     12590      3479      3446      8870      2020     27043   \n",
       "1         -1  ...         0         0      2240         0      2267      3074   \n",
       "2          0  ...      5000      2000      2000      3000      3000      1500   \n",
       "3         -2  ...         0         0         0         0         0         0   \n",
       "4          0  ...      1500      1500      1500      1028       876      1449   \n",
       "...      ...  ...       ...       ...       ...       ...       ...       ...   \n",
       "20995     -2  ...         0         0         0         0         0         0   \n",
       "20996      0  ...      5000      3000      2000      4000      2000      2000   \n",
       "20997      2  ...         0      3600         0      6000      3000         0   \n",
       "20998      0  ...      2000      2000      2000      2000      2000      2000   \n",
       "20999     -2  ...         0         0         0         0         0         0   \n",
       "\n",
       "       default_payment_next_month   pay_avg      BILL_AVG  pay_amt_AVG  \n",
       "0                               0 -1.000000   8557.666667  9574.666667  \n",
       "1                               0  0.000000   1107.333333  1263.500000  \n",
       "2                               0  0.000000  41459.666667  2750.000000  \n",
       "3                               1 -1.666667    445.833333     0.000000  \n",
       "4                               0 -0.166667  22841.000000  1308.833333  \n",
       "...                           ...       ...           ...          ...  \n",
       "20995                           0 -1.500000      0.000000     0.000000  \n",
       "20996                           0  0.000000  55198.500000  3000.000000  \n",
       "20997                           1  1.166667  25024.000000  2100.000000  \n",
       "20998                           0  0.000000  28903.000000  2000.000000  \n",
       "20999                           1 -1.500000      0.000000     0.000000  \n",
       "\n",
       "[21000 rows x 28 columns]"
      ]
     },
     "execution_count": 5,
     "metadata": {},
     "output_type": "execute_result"
    },
    {
     "name": "stdout",
     "output_type": "stream",
     "text": [
      "time: 132 ms (started: 2022-05-18 16:03:01 +05:30)\n"
     ]
    }
   ],
   "source": [
    "modify(test)\n",
    "modify(train)"
   ]
  },
  {
   "cell_type": "code",
   "execution_count": 6,
   "id": "0201a4db",
   "metadata": {},
   "outputs": [
    {
     "name": "stdout",
     "output_type": "stream",
     "text": [
      "time: 37.2 ms (started: 2022-05-18 16:03:02 +05:30)\n"
     ]
    }
   ],
   "source": [
    "def frequency_encoding(data,cat):\n",
    "    \n",
    "    \"\"\"\n",
    "    data: training data\n",
    "    cat: categorical feature on which we have to apply frequency encoding techniques\n",
    " \n",
    "    returns a feature will all categoris assigned to its frequency\n",
    "    \n",
    "    \"\"\"\n",
    "\n",
    "    \n",
    "    \n",
    "    freq_enc = data.groupby(cat).size()/len(data)\n",
    "    return  data[cat].map(freq_enc)\n",
    " \n",
    "#Applying frequency encoding to marriage feature\n",
    "train['MARRIAGE'] = frequency_encoding(train,'MARRIAGE')\n",
    "test['MARRIAGE'] = frequency_encoding(test,'MARRIAGE')"
   ]
  },
  {
   "cell_type": "code",
   "execution_count": 7,
   "id": "4fe8853a",
   "metadata": {},
   "outputs": [
    {
     "name": "stdout",
     "output_type": "stream",
     "text": [
      "time: 153 ms (started: 2022-05-18 16:03:02 +05:30)\n"
     ]
    }
   ],
   "source": [
    "#label encoding on 'EDUCATION'\n",
    "le = LabelEncoder()\n",
    "train['EDUCATION'] = le.fit_transform(train['EDUCATION'])\n",
    "\n",
    "test['EDUCATION'] = le.fit_transform(test['EDUCATION'])"
   ]
  },
  {
   "cell_type": "code",
   "execution_count": 8,
   "id": "fcde5239",
   "metadata": {},
   "outputs": [
    {
     "name": "stdout",
     "output_type": "stream",
     "text": [
      "time: 88.7 ms (started: 2022-05-18 16:03:02 +05:30)\n"
     ]
    }
   ],
   "source": [
    "#onehotencoding on 'SEX' \n",
    "enc = OneHotEncoder(handle_unknown='ignore')\n",
    "train['SEX']=enc.fit_transform(train[['SEX']]).toarray()\n",
    "\n",
    "test['SEX']=enc.fit_transform(test[['SEX']]).toarray()"
   ]
  },
  {
   "cell_type": "code",
   "execution_count": 9,
   "id": "209a4eb9",
   "metadata": {},
   "outputs": [
    {
     "name": "stdout",
     "output_type": "stream",
     "text": [
      "time: 58.9 ms (started: 2022-05-18 16:03:02 +05:30)\n"
     ]
    }
   ],
   "source": [
    "#defining x and Y sets\n",
    "Y=train['default_payment_next_month']\n",
    "train.drop('default_payment_next_month',axis=1,inplace=True)\n",
    "x=train"
   ]
  },
  {
   "cell_type": "code",
   "execution_count": 10,
   "id": "0ed7b276",
   "metadata": {},
   "outputs": [
    {
     "name": "stdout",
     "output_type": "stream",
     "text": [
      "time: 66.9 ms (started: 2022-05-18 16:03:02 +05:30)\n"
     ]
    }
   ],
   "source": [
    "x.drop(['ID'],axis=1,inplace=True)"
   ]
  },
  {
   "cell_type": "code",
   "execution_count": 11,
   "id": "6cc1581a",
   "metadata": {},
   "outputs": [
    {
     "name": "stdout",
     "output_type": "stream",
     "text": [
      "time: 469 ms (started: 2022-05-18 16:03:02 +05:30)\n"
     ]
    }
   ],
   "source": [
    "#applying smote for class balancing\n",
    "sm = SMOTE(random_state=42)\n",
    "x_res, Y_res= sm.fit_resample(x, Y)"
   ]
  },
  {
   "cell_type": "code",
   "execution_count": 12,
   "id": "588d98f6",
   "metadata": {},
   "outputs": [
    {
     "name": "stdout",
     "output_type": "stream",
     "text": [
      "time: 15.3 ms (started: 2022-05-18 16:03:02 +05:30)\n"
     ]
    }
   ],
   "source": [
    "#splitting the data into train and test set\n",
    "X_train,X_test,y_train,y_test=train_test_split(x_res, Y_res,test_size=0.25,shuffle=True,random_state=42)"
   ]
  },
  {
   "cell_type": "code",
   "execution_count": 13,
   "id": "9b9e1158",
   "metadata": {},
   "outputs": [
    {
     "name": "stdout",
     "output_type": "stream",
     "text": [
      "time: 69.3 ms (started: 2022-05-18 16:03:02 +05:30)\n"
     ]
    }
   ],
   "source": [
    "X_train.reset_index(drop=True, inplace=True)"
   ]
  },
  {
   "cell_type": "code",
   "execution_count": 14,
   "id": "a8410ef2",
   "metadata": {},
   "outputs": [
    {
     "name": "stdout",
     "output_type": "stream",
     "text": [
      "time: 78.5 ms (started: 2022-05-18 16:03:03 +05:30)\n"
     ]
    }
   ],
   "source": [
    "def draw_bootstrap(X_train, y_train):\n",
    "    \n",
    "    \"\"\"\n",
    "    Params: X_train, y_train: training data to create subsets from\n",
    "    \n",
    "    returns: Bootstrapped train data and Out of bag data for testing\n",
    "    \n",
    "    \"\"\"\n",
    "    bootstrap_indices = list(np.random.choice(range(len(X_train)), len(X_train), replace = True))\n",
    "    oob_indices = [i for i in range(len(X_train)) if i not in bootstrap_indices]\n",
    "    X_bootstrap = X_train.iloc[bootstrap_indices]\n",
    "    y_bootstrap = y_train.iloc[bootstrap_indices].values.reshape(-1, 1)\n",
    "    X_oob = X_train.iloc[oob_indices]\n",
    "    y_oob = y_train.iloc[oob_indices]\n",
    "    return X_bootstrap, y_bootstrap, X_oob, y_oob"
   ]
  },
  {
   "cell_type": "code",
   "execution_count": 15,
   "id": "bb639210",
   "metadata": {},
   "outputs": [
    {
     "name": "stdout",
     "output_type": "stream",
     "text": [
      "time: 98.8 ms (started: 2022-05-18 16:03:03 +05:30)\n"
     ]
    }
   ],
   "source": [
    "def metrics(i,test,pred):\n",
    "    \"\"\"\n",
    "    params: i: iterable, for ith number of dt model\n",
    "            test data,prediction: to calculate metrics of the model\n",
    "    \n",
    "    \"\"\"\n",
    "    print(\"Metrics of {}th DT model\".format(i))\n",
    "    print(\"Accuracy:{}\".format(accuracy_score(test, pred)))\n",
    "    print(\"F1 Score: {}\".format(f1_score(test, pred)))\n",
    "    print(\"roc_auc Score: {}\".format(roc_auc_score(test, pred)))\n",
    "    "
   ]
  },
  {
   "cell_type": "code",
   "execution_count": 16,
   "id": "f7ebbaee",
   "metadata": {},
   "outputs": [
    {
     "name": "stdout",
     "output_type": "stream",
     "text": [
      "time: 153 ms (started: 2022-05-18 16:03:03 +05:30)\n"
     ]
    }
   ],
   "source": [
    "dts=[]\n",
    "features={}\n",
    "def random_forest_classifier(X_train, y_train):\n",
    "    \"\"\" \n",
    "    \n",
    "    Function to build a random forest from multiple decision tress trained on different subsets of train data\n",
    "    \n",
    "    \"\"\"\n",
    "    \n",
    "    scores = []\n",
    "    for i in range(0, 10):\n",
    "        #generate 10 subsets of data\n",
    "        X_bootstrap, y_bootstrap, X_oob, y_oob = draw_bootstrap(X_train, y_train)\n",
    "\n",
    "        #column sampling\n",
    "        features[i]=np.random.choice(X_train.columns,14,replace = False)\n",
    "        #building the decision tree model\n",
    "        dt=DecisionTreeClassifier(random_state=42,min_samples_split= 5, min_samples_leaf= 15, criterion='entropy')\n",
    "\n",
    "        #fit train data\n",
    "        dt.fit(X_bootstrap.loc[:,features[i]], y_bootstrap)\n",
    "        dts.append(dt)\n",
    "        y_pred=dt.predict(X_oob.loc[:,features[i]])\n",
    "        # evaluate accuracy and store\n",
    "        metrics(i,y_oob,y_pred)\n",
    "        scores.append(accuracy_score(y_oob, y_pred))\n",
    "\n",
    "\n",
    "\n",
    "    print(\"Average accuracy: {:.2f}%.\".format(np.mean(scores) * 100))\n",
    "\n"
   ]
  },
  {
   "cell_type": "code",
   "execution_count": 17,
   "id": "b998b7b1",
   "metadata": {},
   "outputs": [
    {
     "name": "stdout",
     "output_type": "stream",
     "text": [
      "Metrics of 0th DT model\n",
      "Accuracy:0.7748388530784619\n",
      "F1 Score: 0.7736312849162011\n",
      "roc_auc Score: 0.7748806357136364\n",
      "Metrics of 1th DT model\n",
      "Accuracy:0.7931034482758621\n",
      "F1 Score: 0.7903225806451613\n",
      "roc_auc Score: 0.7931125918675076\n",
      "Metrics of 2th DT model\n",
      "Accuracy:0.8033969804618117\n",
      "F1 Score: 0.7984981226533167\n",
      "roc_auc Score: 0.8034868593489896\n",
      "Metrics of 3th DT model\n",
      "Accuracy:0.7187953151143335\n",
      "F1 Score: 0.7174083622912228\n",
      "roc_auc Score: 0.7187906564133784\n",
      "Metrics of 4th DT model\n",
      "Accuracy:0.7694941462337088\n",
      "F1 Score: 0.7621652421652422\n",
      "roc_auc Score: 0.7693103963178975\n",
      "Metrics of 5th DT model\n",
      "Accuracy:0.7807085310672112\n",
      "F1 Score: 0.7735612535612536\n",
      "roc_auc Score: 0.7805048972188692\n",
      "Metrics of 6th DT model\n",
      "Accuracy:0.7870216306156406\n",
      "F1 Score: 0.7838324701643774\n",
      "roc_auc Score: 0.787393968984802\n",
      "Metrics of 7th DT model\n",
      "Accuracy:0.7783825816485226\n",
      "F1 Score: 0.7759685569904547\n",
      "roc_auc Score: 0.7784343841800012\n",
      "Metrics of 8th DT model\n",
      "Accuracy:0.7369644636333444\n",
      "F1 Score: 0.7346437346437347\n",
      "roc_auc Score: 0.7371433810443205\n",
      "Metrics of 9th DT model\n",
      "Accuracy:0.7817782656421515\n",
      "F1 Score: 0.7763779527559055\n",
      "roc_auc Score: 0.7817626996239063\n",
      "Average accuracy: 77.24%.\n",
      "time: 6min 31s (started: 2022-05-18 16:03:03 +05:30)\n"
     ]
    }
   ],
   "source": [
    "#function call\n",
    "random_forest_classifier(X_train, y_train)"
   ]
  },
  {
   "cell_type": "code",
   "execution_count": 18,
   "id": "aca5a084",
   "metadata": {},
   "outputs": [
    {
     "name": "stdout",
     "output_type": "stream",
     "text": [
      "time: 565 µs (started: 2022-05-18 16:09:35 +05:30)\n"
     ]
    }
   ],
   "source": [
    "#function to perform prediction of single instance using random forest\n",
    "def predict_row(instance):\n",
    "    \n",
    "    \n",
    "    \"\"\"  \n",
    "    params: single instance to perform prediction \n",
    "    \n",
    "    prints: predicted class the instance belongs to\n",
    "    \n",
    "    \"\"\"\n",
    "    preds=[]\n",
    "    \n",
    "    \n",
    "    for i in range(len(dts)):\n",
    "                preds.append(dts[i].predict(instance[features[i]]))\n",
    "\n",
    "\n",
    "    y_pred=stats.mode(np.array(preds), axis=None)[0][0]\n",
    "    \n",
    "   \n",
    "    print(\"Prediction of given instance:{}\".format(y_pred))"
   ]
  },
  {
   "cell_type": "code",
   "execution_count": 19,
   "id": "b06fc162",
   "metadata": {},
   "outputs": [
    {
     "name": "stdout",
     "output_type": "stream",
     "text": [
      "Prediction of given instance:0\n",
      "time: 132 ms (started: 2022-05-18 16:09:35 +05:30)\n"
     ]
    }
   ],
   "source": [
    "#function call\n",
    "predict_row(X_test.iloc[:1])"
   ]
  },
  {
   "cell_type": "markdown",
   "id": "6f5f03b8",
   "metadata": {},
   "source": [
    "### Accuracy of the RF model"
   ]
  },
  {
   "cell_type": "code",
   "execution_count": 20,
   "id": "4a621307",
   "metadata": {},
   "outputs": [
    {
     "name": "stdout",
     "output_type": "stream",
     "text": [
      "time: 313 ms (started: 2022-05-18 16:09:35 +05:30)\n"
     ]
    }
   ],
   "source": [
    "preds=[]\n",
    "#y_pred=[]\n",
    "for i in range(len(dts)):\n",
    "        preds.append(dts[i].predict(X_test.loc[:,features[i]]))\n",
    "y_pred=stats.mode(np.array(preds), axis=0)[0][0]"
   ]
  },
  {
   "cell_type": "code",
   "execution_count": 21,
   "id": "ed556c3f",
   "metadata": {},
   "outputs": [
    {
     "data": {
      "text/plain": [
       "(10, 8178)"
      ]
     },
     "execution_count": 21,
     "metadata": {},
     "output_type": "execute_result"
    },
    {
     "name": "stdout",
     "output_type": "stream",
     "text": [
      "time: 2.39 ms (started: 2022-05-18 16:09:35 +05:30)\n"
     ]
    }
   ],
   "source": [
    "np.array(preds).shape"
   ]
  },
  {
   "cell_type": "code",
   "execution_count": 22,
   "id": "93204fc6",
   "metadata": {},
   "outputs": [
    {
     "name": "stdout",
     "output_type": "stream",
     "text": [
      "Accuracy of the random forest classifier:85.57104426510149\n",
      "time: 106 ms (started: 2022-05-18 16:09:35 +05:30)\n"
     ]
    }
   ],
   "source": [
    "print(\"Accuracy of the random forest classifier:{}\".format(accuracy_score(y_test, y_pred) * 100))"
   ]
  },
  {
   "cell_type": "code",
   "execution_count": null,
   "id": "79c17547",
   "metadata": {},
   "outputs": [],
   "source": []
  }
 ],
 "metadata": {
  "kernelspec": {
   "display_name": "Python 3 (ipykernel)",
   "language": "python",
   "name": "python3"
  },
  "language_info": {
   "codemirror_mode": {
    "name": "ipython",
    "version": 3
   },
   "file_extension": ".py",
   "mimetype": "text/x-python",
   "name": "python",
   "nbconvert_exporter": "python",
   "pygments_lexer": "ipython3",
   "version": "3.8.10"
  }
 },
 "nbformat": 4,
 "nbformat_minor": 5
}
